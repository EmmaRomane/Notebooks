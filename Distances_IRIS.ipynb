{
 "cells": [
  {
   "cell_type": "markdown",
   "metadata": {},
   "source": [
    "# Table des distances entre les centroïdes des IRIS"
   ]
  },
  {
   "cell_type": "markdown",
   "metadata": {},
   "source": [
    "A partir des données géographiques des contours des IRIS, nous allons calculer les centroïdes puis les distances entre chaqu'un. Les applications peuvent être nombreuses."
   ]
  },
  {
   "cell_type": "markdown",
   "metadata": {},
   "source": [
    "* [**I. Lecture des données**](#lecture)\n",
    "* [**II. Calcul des centroïdes**](#centroide)\n",
    "* [**III. Calcul de la distance Haversine entre 2 points**](#distance)\n",
    "* [**IV. Création d'un dataframe avec les distances**](#dataframe_distance)"
   ]
  },
  {
   "cell_type": "markdown",
   "metadata": {},
   "source": [
    "***"
   ]
  },
  {
   "cell_type": "markdown",
   "metadata": {},
   "source": [
    "On trouve les données du contour des IRIS sur le site suivant : https://geoservices.ign.fr/contoursiris. Les données géographiques contenues dans ce fichier sont en Lambert 93."
   ]
  },
  {
   "cell_type": "code",
   "execution_count": 1,
   "metadata": {},
   "outputs": [],
   "source": [
    "import pandas as pd\n",
    "import geopandas as gpd"
   ]
  },
  {
   "cell_type": "markdown",
   "metadata": {},
   "source": [
    "<h1><a id=\"lecture\"> Lecture des données </a></h1>"
   ]
  },
  {
   "cell_type": "code",
   "execution_count": 2,
   "metadata": {},
   "outputs": [],
   "source": [
    "geoiris = gpd.read_file(\"geographie/CONTOURS-IRIS_2-1_SHP_LAMB93_FXX-2021/CONTOURS-IRIS.shp\")"
   ]
  },
  {
   "cell_type": "code",
   "execution_count": 3,
   "metadata": {},
   "outputs": [
    {
     "data": {
      "text/html": [
       "<div>\n",
       "<style scoped>\n",
       "    .dataframe tbody tr th:only-of-type {\n",
       "        vertical-align: middle;\n",
       "    }\n",
       "\n",
       "    .dataframe tbody tr th {\n",
       "        vertical-align: top;\n",
       "    }\n",
       "\n",
       "    .dataframe thead th {\n",
       "        text-align: right;\n",
       "    }\n",
       "</style>\n",
       "<table border=\"1\" class=\"dataframe\">\n",
       "  <thead>\n",
       "    <tr style=\"text-align: right;\">\n",
       "      <th></th>\n",
       "      <th>INSEE_COM</th>\n",
       "      <th>NOM_COM</th>\n",
       "      <th>IRIS</th>\n",
       "      <th>CODE_IRIS</th>\n",
       "      <th>NOM_IRIS</th>\n",
       "      <th>TYP_IRIS</th>\n",
       "      <th>geometry</th>\n",
       "    </tr>\n",
       "  </thead>\n",
       "  <tbody>\n",
       "    <tr>\n",
       "      <th>0</th>\n",
       "      <td>72191</td>\n",
       "      <td>Mayet</td>\n",
       "      <td>0000</td>\n",
       "      <td>721910000</td>\n",
       "      <td>Mayet</td>\n",
       "      <td>Z</td>\n",
       "      <td>POLYGON ((498083.500 6747517.400, 498128.000 6...</td>\n",
       "    </tr>\n",
       "    <tr>\n",
       "      <th>1</th>\n",
       "      <td>77248</td>\n",
       "      <td>Lesches</td>\n",
       "      <td>0000</td>\n",
       "      <td>772480000</td>\n",
       "      <td>Lesches</td>\n",
       "      <td>Z</td>\n",
       "      <td>POLYGON ((685753.100 6868612.900, 685757.700 6...</td>\n",
       "    </tr>\n",
       "    <tr>\n",
       "      <th>2</th>\n",
       "      <td>51426</td>\n",
       "      <td>Péas</td>\n",
       "      <td>0000</td>\n",
       "      <td>514260000</td>\n",
       "      <td>Péas</td>\n",
       "      <td>Z</td>\n",
       "      <td>POLYGON ((759067.200 6849592.700, 758778.600 6...</td>\n",
       "    </tr>\n",
       "    <tr>\n",
       "      <th>3</th>\n",
       "      <td>81199</td>\n",
       "      <td>Padiès</td>\n",
       "      <td>0000</td>\n",
       "      <td>811990000</td>\n",
       "      <td>Padiès</td>\n",
       "      <td>Z</td>\n",
       "      <td>POLYGON ((651482.800 6326359.400, 651475.600 6...</td>\n",
       "    </tr>\n",
       "    <tr>\n",
       "      <th>4</th>\n",
       "      <td>59225</td>\n",
       "      <td>Feignies</td>\n",
       "      <td>0102</td>\n",
       "      <td>592250102</td>\n",
       "      <td>Sud</td>\n",
       "      <td>H</td>\n",
       "      <td>POLYGON ((767673.500 7022290.500, 767647.200 7...</td>\n",
       "    </tr>\n",
       "  </tbody>\n",
       "</table>\n",
       "</div>"
      ],
      "text/plain": [
       "  INSEE_COM   NOM_COM  IRIS  CODE_IRIS NOM_IRIS TYP_IRIS  \\\n",
       "0     72191     Mayet  0000  721910000    Mayet        Z   \n",
       "1     77248   Lesches  0000  772480000  Lesches        Z   \n",
       "2     51426      Péas  0000  514260000     Péas        Z   \n",
       "3     81199    Padiès  0000  811990000   Padiès        Z   \n",
       "4     59225  Feignies  0102  592250102      Sud        H   \n",
       "\n",
       "                                            geometry  \n",
       "0  POLYGON ((498083.500 6747517.400, 498128.000 6...  \n",
       "1  POLYGON ((685753.100 6868612.900, 685757.700 6...  \n",
       "2  POLYGON ((759067.200 6849592.700, 758778.600 6...  \n",
       "3  POLYGON ((651482.800 6326359.400, 651475.600 6...  \n",
       "4  POLYGON ((767673.500 7022290.500, 767647.200 7...  "
      ]
     },
     "execution_count": 3,
     "metadata": {},
     "output_type": "execute_result"
    }
   ],
   "source": [
    "geoiris.head()"
   ]
  },
  {
   "cell_type": "code",
   "execution_count": 4,
   "metadata": {},
   "outputs": [],
   "source": [
    "geoiris = geoiris.rename(columns={'geometry': 'IRIS_geometry'})"
   ]
  },
  {
   "cell_type": "code",
   "execution_count": 5,
   "metadata": {},
   "outputs": [
    {
     "data": {
      "text/plain": [
       "INSEE_COM          object\n",
       "NOM_COM            object\n",
       "IRIS               object\n",
       "CODE_IRIS          object\n",
       "NOM_IRIS           object\n",
       "TYP_IRIS           object\n",
       "IRIS_geometry    geometry\n",
       "dtype: object"
      ]
     },
     "execution_count": 5,
     "metadata": {},
     "output_type": "execute_result"
    }
   ],
   "source": [
    "geoiris.dtypes"
   ]
  },
  {
   "cell_type": "code",
   "execution_count": 6,
   "metadata": {},
   "outputs": [],
   "source": [
    "#geoiris[\"IRIS_geometry\"][0]"
   ]
  },
  {
   "cell_type": "code",
   "execution_count": 7,
   "metadata": {
    "scrolled": true
   },
   "outputs": [],
   "source": [
    "#str(geoiris[\"IRIS_geometry\"][0])"
   ]
  },
  {
   "cell_type": "markdown",
   "metadata": {},
   "source": [
    "La ligne ci-dessous nous permettra d'effectuer des tests :"
   ]
  },
  {
   "cell_type": "code",
   "execution_count": 8,
   "metadata": {},
   "outputs": [],
   "source": [
    "test = geoiris[\"IRIS_geometry\"][0]"
   ]
  },
  {
   "cell_type": "markdown",
   "metadata": {},
   "source": [
    "<h1><a id=\"centroide\"> Calcul des centroïdes </a></h1>"
   ]
  },
  {
   "cell_type": "code",
   "execution_count": 9,
   "metadata": {},
   "outputs": [],
   "source": [
    "from shapely import wkt"
   ]
  },
  {
   "cell_type": "code",
   "execution_count": 10,
   "metadata": {},
   "outputs": [
    {
     "data": {
      "text/plain": [
       "'POINT (496259.3244715297 6743965.879059711)'"
      ]
     },
     "execution_count": 10,
     "metadata": {},
     "output_type": "execute_result"
    }
   ],
   "source": [
    "test.centroid.wkt"
   ]
  },
  {
   "cell_type": "markdown",
   "metadata": {},
   "source": [
    "<div class=\"alert alert-block alert-info\">\n",
    "<b>wkt :</b> est un langage de balisage de texte pour représenter des objets de géométrie vectorielle, cela permet donc de \"traduire\" une forme géométrique afin qu'il soit lisible par l'Homme.\n",
    "</div>"
   ]
  },
  {
   "cell_type": "markdown",
   "metadata": {},
   "source": [
    "Calculons les centroïdes de chaque IRIS :"
   ]
  },
  {
   "cell_type": "code",
   "execution_count": 11,
   "metadata": {},
   "outputs": [],
   "source": [
    "geoiris[\"centroideLambert93\"] = \"\""
   ]
  },
  {
   "cell_type": "code",
   "execution_count": 12,
   "metadata": {},
   "outputs": [],
   "source": [
    "for i in range(len(geoiris)):\n",
    "    geoiris.loc[i,'centroideLambert93'] = geoiris.loc[i,'IRIS_geometry'].centroid"
   ]
  },
  {
   "cell_type": "code",
   "execution_count": 13,
   "metadata": {},
   "outputs": [
    {
     "data": {
      "text/html": [
       "<div>\n",
       "<style scoped>\n",
       "    .dataframe tbody tr th:only-of-type {\n",
       "        vertical-align: middle;\n",
       "    }\n",
       "\n",
       "    .dataframe tbody tr th {\n",
       "        vertical-align: top;\n",
       "    }\n",
       "\n",
       "    .dataframe thead th {\n",
       "        text-align: right;\n",
       "    }\n",
       "</style>\n",
       "<table border=\"1\" class=\"dataframe\">\n",
       "  <thead>\n",
       "    <tr style=\"text-align: right;\">\n",
       "      <th></th>\n",
       "      <th>INSEE_COM</th>\n",
       "      <th>NOM_COM</th>\n",
       "      <th>IRIS</th>\n",
       "      <th>CODE_IRIS</th>\n",
       "      <th>NOM_IRIS</th>\n",
       "      <th>TYP_IRIS</th>\n",
       "      <th>IRIS_geometry</th>\n",
       "      <th>centroideLambert93</th>\n",
       "    </tr>\n",
       "  </thead>\n",
       "  <tbody>\n",
       "    <tr>\n",
       "      <th>0</th>\n",
       "      <td>72191</td>\n",
       "      <td>Mayet</td>\n",
       "      <td>0000</td>\n",
       "      <td>721910000</td>\n",
       "      <td>Mayet</td>\n",
       "      <td>Z</td>\n",
       "      <td>POLYGON ((498083.500 6747517.400, 498128.000 6...</td>\n",
       "      <td>POINT (496259.3244715297 6743965.879059711)</td>\n",
       "    </tr>\n",
       "    <tr>\n",
       "      <th>1</th>\n",
       "      <td>77248</td>\n",
       "      <td>Lesches</td>\n",
       "      <td>0000</td>\n",
       "      <td>772480000</td>\n",
       "      <td>Lesches</td>\n",
       "      <td>Z</td>\n",
       "      <td>POLYGON ((685753.100 6868612.900, 685757.700 6...</td>\n",
       "      <td>POINT (684819.2562692661 6868391.508534629)</td>\n",
       "    </tr>\n",
       "    <tr>\n",
       "      <th>2</th>\n",
       "      <td>51426</td>\n",
       "      <td>Péas</td>\n",
       "      <td>0000</td>\n",
       "      <td>514260000</td>\n",
       "      <td>Péas</td>\n",
       "      <td>Z</td>\n",
       "      <td>POLYGON ((759067.200 6849592.700, 758778.600 6...</td>\n",
       "      <td>POINT (757290.6480595496 6848727.502489925)</td>\n",
       "    </tr>\n",
       "    <tr>\n",
       "      <th>3</th>\n",
       "      <td>81199</td>\n",
       "      <td>Padiès</td>\n",
       "      <td>0000</td>\n",
       "      <td>811990000</td>\n",
       "      <td>Padiès</td>\n",
       "      <td>Z</td>\n",
       "      <td>POLYGON ((651482.800 6326359.400, 651475.600 6...</td>\n",
       "      <td>POINT (649120.3356224176 6327536.809572649)</td>\n",
       "    </tr>\n",
       "    <tr>\n",
       "      <th>4</th>\n",
       "      <td>59225</td>\n",
       "      <td>Feignies</td>\n",
       "      <td>0102</td>\n",
       "      <td>592250102</td>\n",
       "      <td>Sud</td>\n",
       "      <td>H</td>\n",
       "      <td>POLYGON ((767673.500 7022290.500, 767647.200 7...</td>\n",
       "      <td>POINT (764793.8338451331 7021294.756690773)</td>\n",
       "    </tr>\n",
       "  </tbody>\n",
       "</table>\n",
       "</div>"
      ],
      "text/plain": [
       "  INSEE_COM   NOM_COM  IRIS  CODE_IRIS NOM_IRIS TYP_IRIS  \\\n",
       "0     72191     Mayet  0000  721910000    Mayet        Z   \n",
       "1     77248   Lesches  0000  772480000  Lesches        Z   \n",
       "2     51426      Péas  0000  514260000     Péas        Z   \n",
       "3     81199    Padiès  0000  811990000   Padiès        Z   \n",
       "4     59225  Feignies  0102  592250102      Sud        H   \n",
       "\n",
       "                                       IRIS_geometry  \\\n",
       "0  POLYGON ((498083.500 6747517.400, 498128.000 6...   \n",
       "1  POLYGON ((685753.100 6868612.900, 685757.700 6...   \n",
       "2  POLYGON ((759067.200 6849592.700, 758778.600 6...   \n",
       "3  POLYGON ((651482.800 6326359.400, 651475.600 6...   \n",
       "4  POLYGON ((767673.500 7022290.500, 767647.200 7...   \n",
       "\n",
       "                            centroideLambert93  \n",
       "0  POINT (496259.3244715297 6743965.879059711)  \n",
       "1  POINT (684819.2562692661 6868391.508534629)  \n",
       "2  POINT (757290.6480595496 6848727.502489925)  \n",
       "3  POINT (649120.3356224176 6327536.809572649)  \n",
       "4  POINT (764793.8338451331 7021294.756690773)  "
      ]
     },
     "execution_count": 13,
     "metadata": {},
     "output_type": "execute_result"
    }
   ],
   "source": [
    "geoiris.head()"
   ]
  },
  {
   "cell_type": "markdown",
   "metadata": {},
   "source": [
    "<h1><a id=\"distance\"> Calcul de la distance Haversine entre 2 points </a></h1>"
   ]
  },
  {
   "cell_type": "markdown",
   "metadata": {},
   "source": [
    "Nous devons d'abord convertir les centroïdes dans le format WSG84 (système internationnal) afin d'utiliser la fonction haversine du package haversine :"
   ]
  },
  {
   "cell_type": "code",
   "execution_count": 14,
   "metadata": {},
   "outputs": [],
   "source": [
    "import pyproj\n",
    "from shapely.ops import transform"
   ]
  },
  {
   "cell_type": "code",
   "execution_count": 15,
   "metadata": {},
   "outputs": [],
   "source": [
    "inProj = pyproj.CRS('EPSG:2154') #Lambert93\n",
    "outProj = pyproj.CRS('EPSG:4326') #WSG84\n",
    "\n",
    "project = pyproj.Transformer.from_crs(inProj, outProj, always_xy=True).transform"
   ]
  },
  {
   "cell_type": "code",
   "execution_count": 16,
   "metadata": {},
   "outputs": [],
   "source": [
    "geoiris[\"centroideWSG84\"] = \"\""
   ]
  },
  {
   "cell_type": "code",
   "execution_count": 17,
   "metadata": {},
   "outputs": [],
   "source": [
    "for i in range(len(geoiris)):\n",
    "    utm_point = transform(project, geoiris[\"centroideLambert93\"][i])\n",
    "    geoiris.loc[i,'centroideWSG84'] = utm_point"
   ]
  },
  {
   "cell_type": "code",
   "execution_count": 18,
   "metadata": {
    "scrolled": true
   },
   "outputs": [
    {
     "data": {
      "text/html": [
       "<div>\n",
       "<style scoped>\n",
       "    .dataframe tbody tr th:only-of-type {\n",
       "        vertical-align: middle;\n",
       "    }\n",
       "\n",
       "    .dataframe tbody tr th {\n",
       "        vertical-align: top;\n",
       "    }\n",
       "\n",
       "    .dataframe thead th {\n",
       "        text-align: right;\n",
       "    }\n",
       "</style>\n",
       "<table border=\"1\" class=\"dataframe\">\n",
       "  <thead>\n",
       "    <tr style=\"text-align: right;\">\n",
       "      <th></th>\n",
       "      <th>INSEE_COM</th>\n",
       "      <th>NOM_COM</th>\n",
       "      <th>IRIS</th>\n",
       "      <th>CODE_IRIS</th>\n",
       "      <th>NOM_IRIS</th>\n",
       "      <th>TYP_IRIS</th>\n",
       "      <th>IRIS_geometry</th>\n",
       "      <th>centroideLambert93</th>\n",
       "      <th>centroideWSG84</th>\n",
       "    </tr>\n",
       "  </thead>\n",
       "  <tbody>\n",
       "    <tr>\n",
       "      <th>0</th>\n",
       "      <td>72191</td>\n",
       "      <td>Mayet</td>\n",
       "      <td>0000</td>\n",
       "      <td>721910000</td>\n",
       "      <td>Mayet</td>\n",
       "      <td>Z</td>\n",
       "      <td>POLYGON ((498083.500 6747517.400, 498128.000 6...</td>\n",
       "      <td>POINT (496259.3244715297 6743965.879059711)</td>\n",
       "      <td>POINT (0.2796914983779593 47.76449762404098)</td>\n",
       "    </tr>\n",
       "    <tr>\n",
       "      <th>1</th>\n",
       "      <td>77248</td>\n",
       "      <td>Lesches</td>\n",
       "      <td>0000</td>\n",
       "      <td>772480000</td>\n",
       "      <td>Lesches</td>\n",
       "      <td>Z</td>\n",
       "      <td>POLYGON ((685753.100 6868612.900, 685757.700 6...</td>\n",
       "      <td>POINT (684819.2562692661 6868391.508534629)</td>\n",
       "      <td>POINT (2.79287013093658 48.9153358646321)</td>\n",
       "    </tr>\n",
       "    <tr>\n",
       "      <th>2</th>\n",
       "      <td>51426</td>\n",
       "      <td>Péas</td>\n",
       "      <td>0000</td>\n",
       "      <td>514260000</td>\n",
       "      <td>Péas</td>\n",
       "      <td>Z</td>\n",
       "      <td>POLYGON ((759067.200 6849592.700, 758778.600 6...</td>\n",
       "      <td>POINT (757290.6480595496 6848727.502489925)</td>\n",
       "      <td>POINT (3.779017410081798 48.73612598145969)</td>\n",
       "    </tr>\n",
       "    <tr>\n",
       "      <th>3</th>\n",
       "      <td>81199</td>\n",
       "      <td>Padiès</td>\n",
       "      <td>0000</td>\n",
       "      <td>811990000</td>\n",
       "      <td>Padiès</td>\n",
       "      <td>Z</td>\n",
       "      <td>POLYGON ((651482.800 6326359.400, 651475.600 6...</td>\n",
       "      <td>POINT (649120.3356224176 6327536.809572649)</td>\n",
       "      <td>POINT (2.365131241705289 44.0449922815527)</td>\n",
       "    </tr>\n",
       "    <tr>\n",
       "      <th>4</th>\n",
       "      <td>59225</td>\n",
       "      <td>Feignies</td>\n",
       "      <td>0102</td>\n",
       "      <td>592250102</td>\n",
       "      <td>Sud</td>\n",
       "      <td>H</td>\n",
       "      <td>POLYGON ((767673.500 7022290.500, 767647.200 7...</td>\n",
       "      <td>POINT (764793.8338451331 7021294.756690773)</td>\n",
       "      <td>POINT (3.908016927184398 50.28618033140764)</td>\n",
       "    </tr>\n",
       "  </tbody>\n",
       "</table>\n",
       "</div>"
      ],
      "text/plain": [
       "  INSEE_COM   NOM_COM  IRIS  CODE_IRIS NOM_IRIS TYP_IRIS  \\\n",
       "0     72191     Mayet  0000  721910000    Mayet        Z   \n",
       "1     77248   Lesches  0000  772480000  Lesches        Z   \n",
       "2     51426      Péas  0000  514260000     Péas        Z   \n",
       "3     81199    Padiès  0000  811990000   Padiès        Z   \n",
       "4     59225  Feignies  0102  592250102      Sud        H   \n",
       "\n",
       "                                       IRIS_geometry  \\\n",
       "0  POLYGON ((498083.500 6747517.400, 498128.000 6...   \n",
       "1  POLYGON ((685753.100 6868612.900, 685757.700 6...   \n",
       "2  POLYGON ((759067.200 6849592.700, 758778.600 6...   \n",
       "3  POLYGON ((651482.800 6326359.400, 651475.600 6...   \n",
       "4  POLYGON ((767673.500 7022290.500, 767647.200 7...   \n",
       "\n",
       "                            centroideLambert93  \\\n",
       "0  POINT (496259.3244715297 6743965.879059711)   \n",
       "1  POINT (684819.2562692661 6868391.508534629)   \n",
       "2  POINT (757290.6480595496 6848727.502489925)   \n",
       "3  POINT (649120.3356224176 6327536.809572649)   \n",
       "4  POINT (764793.8338451331 7021294.756690773)   \n",
       "\n",
       "                                 centroideWSG84  \n",
       "0  POINT (0.2796914983779593 47.76449762404098)  \n",
       "1     POINT (2.79287013093658 48.9153358646321)  \n",
       "2   POINT (3.779017410081798 48.73612598145969)  \n",
       "3    POINT (2.365131241705289 44.0449922815527)  \n",
       "4   POINT (3.908016927184398 50.28618033140764)  "
      ]
     },
     "execution_count": 18,
     "metadata": {},
     "output_type": "execute_result"
    }
   ],
   "source": [
    "geoiris.head()"
   ]
  },
  {
   "cell_type": "markdown",
   "metadata": {},
   "source": [
    "***"
   ]
  },
  {
   "cell_type": "markdown",
   "metadata": {},
   "source": [
    "**Test sur calcul de distance**\n",
    "\n",
    "Nous allons prendre 2 centroïdes et calculer la distance entre ces 2 points. Cela va nous permettre de vérifier si le résultat est correct (via Google Map).\n"
   ]
  },
  {
   "cell_type": "code",
   "execution_count": 19,
   "metadata": {},
   "outputs": [],
   "source": [
    "from haversine import haversine, Unit"
   ]
  },
  {
   "cell_type": "code",
   "execution_count": 20,
   "metadata": {},
   "outputs": [
    {
     "data": {
      "text/plain": [
       "(48.9153358646321, 2.7928701309365795)"
      ]
     },
     "execution_count": 20,
     "metadata": {},
     "output_type": "execute_result"
    }
   ],
   "source": [
    "test1 = geoiris.loc[1,'centroideWSG84']\n",
    "testA = (test1.y,test1.x)\n",
    "testA"
   ]
  },
  {
   "cell_type": "code",
   "execution_count": 21,
   "metadata": {},
   "outputs": [
    {
     "data": {
      "text/plain": [
       "(48.73612598145969, 3.779017410081798)"
      ]
     },
     "execution_count": 21,
     "metadata": {},
     "output_type": "execute_result"
    }
   ],
   "source": [
    "test2 = geoiris.loc[2,'centroideWSG84']\n",
    "testB = (test2.y,test2.x)\n",
    "testB"
   ]
  },
  {
   "cell_type": "code",
   "execution_count": 22,
   "metadata": {},
   "outputs": [
    {
     "data": {
      "text/plain": [
       "74.89054105021961"
      ]
     },
     "execution_count": 22,
     "metadata": {},
     "output_type": "execute_result"
    }
   ],
   "source": [
    "haversine(testA, testB, unit='km')"
   ]
  },
  {
   "cell_type": "markdown",
   "metadata": {},
   "source": [
    "***"
   ]
  },
  {
   "cell_type": "markdown",
   "metadata": {},
   "source": [
    "Création d'une fonction permettant de calculer la distance entre 2 points en km :"
   ]
  },
  {
   "cell_type": "code",
   "execution_count": 23,
   "metadata": {},
   "outputs": [],
   "source": [
    "def distanceHaversine(PointA,PointB) :\n",
    "    latLongA = (PointA.y,PointA.x)\n",
    "    latLongB = (PointB.y,PointB.x)\n",
    "    return haversine(latLongA, latLongB, unit='km')"
   ]
  },
  {
   "cell_type": "code",
   "execution_count": 24,
   "metadata": {},
   "outputs": [
    {
     "data": {
      "text/plain": [
       "74.89054105021961"
      ]
     },
     "execution_count": 24,
     "metadata": {},
     "output_type": "execute_result"
    }
   ],
   "source": [
    "distanceHaversine(geoiris.loc[1,'centroideWSG84'],geoiris.loc[2,'centroideWSG84'])"
   ]
  },
  {
   "cell_type": "markdown",
   "metadata": {},
   "source": [
    "<h1><a id=\"dataframe_distance\"> Création d'un dataframe avec les distances </a></h1>"
   ]
  },
  {
   "cell_type": "markdown",
   "metadata": {},
   "source": [
    "Création d'un dataframe vide :"
   ]
  },
  {
   "cell_type": "code",
   "execution_count": 25,
   "metadata": {},
   "outputs": [],
   "source": [
    "distances_IRIS = pd.DataFrame(columns=['codeIRIS1','codeIRIS2','distanceKm'])"
   ]
  },
  {
   "cell_type": "code",
   "execution_count": 26,
   "metadata": {},
   "outputs": [
    {
     "data": {
      "text/html": [
       "<div>\n",
       "<style scoped>\n",
       "    .dataframe tbody tr th:only-of-type {\n",
       "        vertical-align: middle;\n",
       "    }\n",
       "\n",
       "    .dataframe tbody tr th {\n",
       "        vertical-align: top;\n",
       "    }\n",
       "\n",
       "    .dataframe thead th {\n",
       "        text-align: right;\n",
       "    }\n",
       "</style>\n",
       "<table border=\"1\" class=\"dataframe\">\n",
       "  <thead>\n",
       "    <tr style=\"text-align: right;\">\n",
       "      <th></th>\n",
       "      <th>codeIRIS1</th>\n",
       "      <th>codeIRIS2</th>\n",
       "      <th>distanceKm</th>\n",
       "    </tr>\n",
       "  </thead>\n",
       "  <tbody>\n",
       "  </tbody>\n",
       "</table>\n",
       "</div>"
      ],
      "text/plain": [
       "Empty DataFrame\n",
       "Columns: [codeIRIS1, codeIRIS2, distanceKm]\n",
       "Index: []"
      ]
     },
     "execution_count": 26,
     "metadata": {},
     "output_type": "execute_result"
    }
   ],
   "source": [
    "distances_IRIS"
   ]
  },
  {
   "cell_type": "code",
   "execution_count": 27,
   "metadata": {},
   "outputs": [],
   "source": [
    "import time"
   ]
  },
  {
   "cell_type": "code",
   "execution_count": 28,
   "metadata": {
    "scrolled": true
   },
   "outputs": [],
   "source": [
    "start = time.time()\n",
    "compteur=0\n",
    "#for i in range(len(geoiris)):\n",
    "for i in range(0,2):\n",
    "    for j in range(len(geoiris)):\n",
    "        # On rempli la première cellule\n",
    "        distances_IRIS.loc[compteur,'codeIRIS1']= geoiris.loc[i,'CODE_IRIS']\n",
    "        distances_IRIS.loc[compteur,'codeIRIS2']= geoiris.loc[j,'CODE_IRIS']\n",
    "        \n",
    "        distanceAB = distanceHaversine(geoiris.loc[i,'centroideWSG84'],geoiris.loc[j,'centroideWSG84'])\n",
    "        distances_IRIS.loc[compteur,'distanceKm']= distanceAB\n",
    "        \n",
    "        compteur += 1\n",
    "end = time.time()"
   ]
  },
  {
   "cell_type": "code",
   "execution_count": 29,
   "metadata": {},
   "outputs": [
    {
     "name": "stdout",
     "output_type": "stream",
     "text": [
      "Temps d'exécution : 11.295932801564534\n"
     ]
    }
   ],
   "source": [
    "print(\"Temps d'exécution :\",(end - start)/60)"
   ]
  },
  {
   "cell_type": "code",
   "execution_count": 30,
   "metadata": {},
   "outputs": [
    {
     "data": {
      "text/html": [
       "<div>\n",
       "<style scoped>\n",
       "    .dataframe tbody tr th:only-of-type {\n",
       "        vertical-align: middle;\n",
       "    }\n",
       "\n",
       "    .dataframe tbody tr th {\n",
       "        vertical-align: top;\n",
       "    }\n",
       "\n",
       "    .dataframe thead th {\n",
       "        text-align: right;\n",
       "    }\n",
       "</style>\n",
       "<table border=\"1\" class=\"dataframe\">\n",
       "  <thead>\n",
       "    <tr style=\"text-align: right;\">\n",
       "      <th></th>\n",
       "      <th>codeIRIS1</th>\n",
       "      <th>codeIRIS2</th>\n",
       "      <th>distanceKm</th>\n",
       "    </tr>\n",
       "  </thead>\n",
       "  <tbody>\n",
       "    <tr>\n",
       "      <th>0</th>\n",
       "      <td>721910000</td>\n",
       "      <td>721910000</td>\n",
       "      <td>0</td>\n",
       "    </tr>\n",
       "    <tr>\n",
       "      <th>1</th>\n",
       "      <td>721910000</td>\n",
       "      <td>772480000</td>\n",
       "      <td>225.548</td>\n",
       "    </tr>\n",
       "    <tr>\n",
       "      <th>2</th>\n",
       "      <td>721910000</td>\n",
       "      <td>514260000</td>\n",
       "      <td>280.687</td>\n",
       "    </tr>\n",
       "    <tr>\n",
       "      <th>3</th>\n",
       "      <td>721910000</td>\n",
       "      <td>811990000</td>\n",
       "      <td>443.909</td>\n",
       "    </tr>\n",
       "    <tr>\n",
       "      <th>4</th>\n",
       "      <td>721910000</td>\n",
       "      <td>592250102</td>\n",
       "      <td>385.412</td>\n",
       "    </tr>\n",
       "    <tr>\n",
       "      <th>...</th>\n",
       "      <td>...</td>\n",
       "      <td>...</td>\n",
       "      <td>...</td>\n",
       "    </tr>\n",
       "    <tr>\n",
       "      <th>97173</th>\n",
       "      <td>772480000</td>\n",
       "      <td>710730102</td>\n",
       "      <td>268.578</td>\n",
       "    </tr>\n",
       "    <tr>\n",
       "      <th>97174</th>\n",
       "      <td>772480000</td>\n",
       "      <td>385450101</td>\n",
       "      <td>484.016</td>\n",
       "    </tr>\n",
       "    <tr>\n",
       "      <th>97175</th>\n",
       "      <td>772480000</td>\n",
       "      <td>740630000</td>\n",
       "      <td>422.978</td>\n",
       "    </tr>\n",
       "    <tr>\n",
       "      <th>97176</th>\n",
       "      <td>772480000</td>\n",
       "      <td>951010000</td>\n",
       "      <td>85.9998</td>\n",
       "    </tr>\n",
       "    <tr>\n",
       "      <th>97177</th>\n",
       "      <td>772480000</td>\n",
       "      <td>384030000</td>\n",
       "      <td>504.368</td>\n",
       "    </tr>\n",
       "  </tbody>\n",
       "</table>\n",
       "<p>97178 rows × 3 columns</p>\n",
       "</div>"
      ],
      "text/plain": [
       "       codeIRIS1  codeIRIS2 distanceKm\n",
       "0      721910000  721910000          0\n",
       "1      721910000  772480000    225.548\n",
       "2      721910000  514260000    280.687\n",
       "3      721910000  811990000    443.909\n",
       "4      721910000  592250102    385.412\n",
       "...          ...        ...        ...\n",
       "97173  772480000  710730102    268.578\n",
       "97174  772480000  385450101    484.016\n",
       "97175  772480000  740630000    422.978\n",
       "97176  772480000  951010000    85.9998\n",
       "97177  772480000  384030000    504.368\n",
       "\n",
       "[97178 rows x 3 columns]"
      ]
     },
     "execution_count": 30,
     "metadata": {},
     "output_type": "execute_result"
    }
   ],
   "source": [
    "distances_IRIS"
   ]
  },
  {
   "cell_type": "code",
   "execution_count": null,
   "metadata": {},
   "outputs": [],
   "source": []
  }
 ],
 "metadata": {
  "kernelspec": {
   "display_name": "Python 3",
   "language": "python",
   "name": "python3"
  },
  "language_info": {
   "codemirror_mode": {
    "name": "ipython",
    "version": 3
   },
   "file_extension": ".py",
   "mimetype": "text/x-python",
   "name": "python",
   "nbconvert_exporter": "python",
   "pygments_lexer": "ipython3",
   "version": "3.8.5"
  }
 },
 "nbformat": 4,
 "nbformat_minor": 4
}
